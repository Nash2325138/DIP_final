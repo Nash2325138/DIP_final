{
 "cells": [
  {
   "cell_type": "code",
   "execution_count": 27,
   "metadata": {
    "collapsed": true
   },
   "outputs": [],
   "source": [
    "import pandas as pd\n",
    "import numpy as np\n",
    "import matplotlib.pyplot as plt"
   ]
  },
  {
   "cell_type": "code",
   "execution_count": 28,
   "metadata": {
    "collapsed": false
   },
   "outputs": [
    {
     "data": {
      "text/html": [
       "<div>\n",
       "<style>\n",
       "    .dataframe thead tr:only-child th {\n",
       "        text-align: right;\n",
       "    }\n",
       "\n",
       "    .dataframe thead th {\n",
       "        text-align: left;\n",
       "    }\n",
       "\n",
       "    .dataframe tbody tr th {\n",
       "        vertical-align: top;\n",
       "    }\n",
       "</style>\n",
       "<table border=\"1\" class=\"dataframe\">\n",
       "  <thead>\n",
       "    <tr style=\"text-align: right;\">\n",
       "      <th></th>\n",
       "      <th>0</th>\n",
       "      <th>0.1</th>\n",
       "      <th>0.2</th>\n",
       "      <th>0.3</th>\n",
       "      <th>0.4</th>\n",
       "      <th>0.5</th>\n",
       "      <th>0.6</th>\n",
       "      <th>0.7</th>\n",
       "      <th>0.8</th>\n",
       "      <th>0.9</th>\n",
       "      <th>...</th>\n",
       "      <th>0.27</th>\n",
       "      <th>0.28</th>\n",
       "      <th>0.29</th>\n",
       "      <th>0.30</th>\n",
       "      <th>0.31</th>\n",
       "      <th>0.32</th>\n",
       "      <th>0.33</th>\n",
       "      <th>0.34</th>\n",
       "      <th>0.35</th>\n",
       "      <th>0.36</th>\n",
       "    </tr>\n",
       "  </thead>\n",
       "  <tbody>\n",
       "    <tr>\n",
       "      <th>0</th>\n",
       "      <td>0</td>\n",
       "      <td>0</td>\n",
       "      <td>0</td>\n",
       "      <td>0</td>\n",
       "      <td>0</td>\n",
       "      <td>0</td>\n",
       "      <td>0</td>\n",
       "      <td>0</td>\n",
       "      <td>0</td>\n",
       "      <td>0</td>\n",
       "      <td>...</td>\n",
       "      <td>0.00000</td>\n",
       "      <td>0.00000</td>\n",
       "      <td>0.00000</td>\n",
       "      <td>0.00000</td>\n",
       "      <td>0.00000</td>\n",
       "      <td>0.00000</td>\n",
       "      <td>0.0000</td>\n",
       "      <td>0.00000</td>\n",
       "      <td>0.00000</td>\n",
       "      <td>0.00000</td>\n",
       "    </tr>\n",
       "    <tr>\n",
       "      <th>1</th>\n",
       "      <td>0</td>\n",
       "      <td>0</td>\n",
       "      <td>0</td>\n",
       "      <td>0</td>\n",
       "      <td>0</td>\n",
       "      <td>0</td>\n",
       "      <td>0</td>\n",
       "      <td>0</td>\n",
       "      <td>0</td>\n",
       "      <td>0</td>\n",
       "      <td>...</td>\n",
       "      <td>1.55700</td>\n",
       "      <td>1.52780</td>\n",
       "      <td>1.50150</td>\n",
       "      <td>1.47720</td>\n",
       "      <td>1.45560</td>\n",
       "      <td>1.43590</td>\n",
       "      <td>1.4178</td>\n",
       "      <td>1.40110</td>\n",
       "      <td>1.38540</td>\n",
       "      <td>1.37120</td>\n",
       "    </tr>\n",
       "    <tr>\n",
       "      <th>2</th>\n",
       "      <td>0</td>\n",
       "      <td>0</td>\n",
       "      <td>0</td>\n",
       "      <td>0</td>\n",
       "      <td>0</td>\n",
       "      <td>0</td>\n",
       "      <td>0</td>\n",
       "      <td>0</td>\n",
       "      <td>0</td>\n",
       "      <td>0</td>\n",
       "      <td>...</td>\n",
       "      <td>2.79530</td>\n",
       "      <td>2.89470</td>\n",
       "      <td>2.99420</td>\n",
       "      <td>3.09550</td>\n",
       "      <td>3.19490</td>\n",
       "      <td>3.29430</td>\n",
       "      <td>3.3938</td>\n",
       "      <td>3.49320</td>\n",
       "      <td>3.59450</td>\n",
       "      <td>3.69400</td>\n",
       "    </tr>\n",
       "    <tr>\n",
       "      <th>3</th>\n",
       "      <td>0</td>\n",
       "      <td>0</td>\n",
       "      <td>0</td>\n",
       "      <td>0</td>\n",
       "      <td>0</td>\n",
       "      <td>0</td>\n",
       "      <td>0</td>\n",
       "      <td>0</td>\n",
       "      <td>0</td>\n",
       "      <td>0</td>\n",
       "      <td>...</td>\n",
       "      <td>0.73652</td>\n",
       "      <td>0.74324</td>\n",
       "      <td>0.74963</td>\n",
       "      <td>0.75583</td>\n",
       "      <td>0.76162</td>\n",
       "      <td>0.76714</td>\n",
       "      <td>0.7724</td>\n",
       "      <td>0.77744</td>\n",
       "      <td>0.78235</td>\n",
       "      <td>0.78696</td>\n",
       "    </tr>\n",
       "  </tbody>\n",
       "</table>\n",
       "<p>4 rows × 37 columns</p>\n",
       "</div>"
      ],
      "text/plain": [
       "   0  0.1  0.2  0.3  0.4  0.5  0.6  0.7  0.8  0.9   ...        0.27     0.28  \\\n",
       "0  0    0    0    0    0    0    0    0    0    0   ...     0.00000  0.00000   \n",
       "1  0    0    0    0    0    0    0    0    0    0   ...     1.55700  1.52780   \n",
       "2  0    0    0    0    0    0    0    0    0    0   ...     2.79530  2.89470   \n",
       "3  0    0    0    0    0    0    0    0    0    0   ...     0.73652  0.74324   \n",
       "\n",
       "      0.29     0.30     0.31     0.32    0.33     0.34     0.35     0.36  \n",
       "0  0.00000  0.00000  0.00000  0.00000  0.0000  0.00000  0.00000  0.00000  \n",
       "1  1.50150  1.47720  1.45560  1.43590  1.4178  1.40110  1.38540  1.37120  \n",
       "2  2.99420  3.09550  3.19490  3.29430  3.3938  3.49320  3.59450  3.69400  \n",
       "3  0.74963  0.75583  0.76162  0.76714  0.7724  0.77744  0.78235  0.78696  \n",
       "\n",
       "[4 rows x 37 columns]"
      ]
     },
     "execution_count": 28,
     "metadata": {},
     "output_type": "execute_result"
    }
   ],
   "source": [
    "df = pd.read_csv('record.csv')\n",
    "df"
   ]
  },
  {
   "cell_type": "code",
   "execution_count": 29,
   "metadata": {
    "collapsed": false
   },
   "outputs": [
    {
     "data": {
      "text/plain": [
       "array([[  0.     ,   0.     ,   0.     ,   0.     ],\n",
       "       [  0.     ,   0.     ,   0.     ,   0.     ],\n",
       "       [  0.     ,   0.     ,   0.     ,   0.     ],\n",
       "       [  0.     ,   0.     ,   0.     ,   0.     ],\n",
       "       [  0.     ,   0.     ,   0.     ,   0.     ],\n",
       "       [  0.     ,   0.     ,   0.     ,   0.     ],\n",
       "       [  0.     ,   0.     ,   0.     ,   0.     ],\n",
       "       [  0.     ,   0.     ,   0.     ,   0.     ],\n",
       "       [  0.     ,   0.     ,   0.     ,   0.     ],\n",
       "       [  0.     ,   0.     ,   0.     ,   0.     ],\n",
       "       [  0.     ,   1.1016 ,  10.846  ,   0.91558],\n",
       "       [  0.     ,   1.2035 ,   5.9135 ,   0.85535],\n",
       "       [  0.     ,   1.3033 ,   4.2968 ,   0.81121],\n",
       "       [  0.     ,   1.4031 ,   3.4806 ,   0.77681],\n",
       "       [  0.     ,   1.502  ,   2.9922 ,   0.74951],\n",
       "       [  0.     ,   1.6047 ,   2.6537 ,   0.72631],\n",
       "       [  0.     ,   1.7045 ,   2.4194 ,   0.70755],\n",
       "       [  0.     ,   1.8043 ,   2.2433 ,   0.69167],\n",
       "       [  0.     ,   1.9041 ,   2.1061 ,   0.67805],\n",
       "       [  0.     ,   0.     ,   0.     ,   0.     ],\n",
       "       [  0.     ,   1.9112 ,   2.0975 ,   0.67716],\n",
       "       [  0.     ,   1.8355 ,   2.1969 ,   0.6872 ],\n",
       "       [  0.     ,   1.7714 ,   2.2963 ,   0.69663],\n",
       "       [  0.     ,   1.7165 ,   2.3957 ,   0.70551],\n",
       "       [  0.     ,   1.6688 ,   2.4951 ,   0.71389],\n",
       "       [  0.     ,   1.6264 ,   2.5965 ,   0.72195],\n",
       "       [  0.     ,   1.5897 ,   2.6959 ,   0.72943],\n",
       "       [  0.     ,   1.557  ,   2.7953 ,   0.73652],\n",
       "       [  0.     ,   1.5278 ,   2.8947 ,   0.74324],\n",
       "       [  0.     ,   1.5015 ,   2.9942 ,   0.74963],\n",
       "       [  0.     ,   1.4772 ,   3.0955 ,   0.75583],\n",
       "       [  0.     ,   1.4556 ,   3.1949 ,   0.76162],\n",
       "       [  0.     ,   1.4359 ,   3.2943 ,   0.76714],\n",
       "       [  0.     ,   1.4178 ,   3.3938 ,   0.7724 ],\n",
       "       [  0.     ,   1.4011 ,   3.4932 ,   0.77744],\n",
       "       [  0.     ,   1.3854 ,   3.5945 ,   0.78235],\n",
       "       [  0.     ,   1.3712 ,   3.694  ,   0.78696]])"
      ]
     },
     "execution_count": 29,
     "metadata": {},
     "output_type": "execute_result"
    }
   ],
   "source": [
    "values = df.T.values\n",
    "values"
   ]
  },
  {
   "cell_type": "code",
   "execution_count": 34,
   "metadata": {
    "collapsed": false
   },
   "outputs": [
    {
     "data": {
      "text/plain": [
       "array([ 0.1,  0.2,  0.3,  0.4,  0.5,  0.6,  0.7,  0.8,  0.9,  1. ,  1.1,\n",
       "        1.2,  1.3,  1.4,  1.5,  1.6,  1.7,  1.8,  1.9,  2. ,  2.1,  2.2,\n",
       "        2.3,  2.4,  2.5,  2.6,  2.7,  2.8,  2.9,  3. ,  3.1,  3.2,  3.3,\n",
       "        3.4,  3.5,  3.6,  3.7])"
      ]
     },
     "execution_count": 34,
     "metadata": {},
     "output_type": "execute_result"
    }
   ],
   "source": [
    "x = np.array([eval(x) for x in df.columns])\n",
    "x[10:] *= 10\n",
    "x += 0.1\n",
    "x"
   ]
  },
  {
   "cell_type": "code",
   "execution_count": 63,
   "metadata": {
    "collapsed": false
   },
   "outputs": [
    {
     "data": {
      "image/png": "[encoded data removed]",
      "text/plain": [
       "<matplotlib.figure.Figure at 0x10af442b0>"
      ]
     },
     "metadata": {},
     "output_type": "display_data"
    }
   ],
   "source": [
    "plt.plot(x, values[:, 3], label='R=0~1')\n",
    "plt.plot(x, values[:, 1], label='R=1~2')\n",
    "plt.plot(x, values[:, 2], label='R=2~')\n",
    "plt.plot(x, x, '.', label='Actual R')\n",
    "plt.legend()\n",
    "plt.savefig('./Plot.png')\n",
    "plt.show()"
   ]
  },
  {
   "cell_type": "code",
   "execution_count": 20,
   "metadata": {
    "collapsed": false
   },
   "outputs": [
    {
     "data": {
      "text/plain": [
       "37"
      ]
     },
     "execution_count": 20,
     "metadata": {},
     "output_type": "execute_result"
    }
   ],
   "source": [
    "len(x)"
   ]
  },
  {
   "cell_type": "code",
   "execution_count": 24,
   "metadata": {
    "collapsed": false
   },
   "outputs": [
    {
     "data": {
      "text/plain": [
       "Index(['0', '0.1', '0.2', '0.3', '0.4', '0.5', '0.6', '0.7', '0.8', '0.9',\n",
       "       '0.10', '0.11', '0.12', '0.13', '0.14', '0.15', '0.16', '0.17', '0.18',\n",
       "       '0.19', '0.20', '0.21', '0.22', '0.23', '0.24', '0.25', '0.26', '0.27',\n",
       "       '0.28', '0.29', '0.30', '0.31', '0.32', '0.33', '0.34', '0.35', '0.36'],\n",
       "      dtype='object')"
      ]
     },
     "execution_count": 24,
     "metadata": {},
     "output_type": "execute_result"
    }
   ],
   "source": [
    "df.columns"
   ]
  },
  {
   "cell_type": "code",
   "execution_count": null,
   "metadata": {
    "collapsed": true
   },
   "outputs": [],
   "source": []
  }
 ],
 "metadata": {
  "kernelspec": {
   "display_name": "Python 3",
   "language": "python",
   "name": "python3"
  },
  "language_info": {
   "codemirror_mode": {
    "name": "ipython",
    "version": 3
   },
   "file_extension": ".py",
   "mimetype": "text/x-python",
   "name": "python",
   "nbconvert_exporter": "python",
   "pygments_lexer": "ipython3",
   "version": "3.6.2"
  }
 },
 "nbformat": 4,
 "nbformat_minor": 2
}
